{
 "cells": [
  {
   "cell_type": "markdown",
   "metadata": {},
   "source": [
    "# Snail and well\n",
    "\n",
    "A snail falls at the bottom of a 125 cm well. Each day the snail rises 30 cm. But at night, while sleeping, slides 20 cm because the walls are wet. How many days does it take to escape from the well?\n",
    "\n",
    "TIP: http://puzzles.nigelcoldwell.co.uk/sixtytwo.htm"
   ]
  },
  {
   "cell_type": "markdown",
   "metadata": {},
   "source": [
    "## Solución"
   ]
  },
  {
   "cell_type": "code",
   "execution_count": 1,
   "metadata": {},
   "outputs": [],
   "source": [
    "# Assign problem data to variables with representative names\n",
    "# well height, daily advance, night retreat, accumulated distance\n",
    "well_height=125\n",
    "daily_distance=30\n",
    "nightly_distance=20\n",
    "snail_position=0\n",
    "\n",
    "# Assign 0 to the variable that represents the solution\n",
    "days=0\n",
    "\n",
    "# Write the code that solves the problem\n",
    "while snail_position < well_height:\n",
    "  snail_position+=daily_distance\n",
    "  days+=1\n",
    "  if snail_position < well_height:\n",
    "    snail_position-=nightly_distance\n",
    "\n",
    "# Print the result with print('Days =', days)\n",
    "print(\"Days = \", days)"
   ]
  },
  {
   "cell_type": "markdown",
   "metadata": {},
   "source": [
    "**Expected output**: \n",
    "```\n",
    "Days = 11\n",
    "```"
   ]
  },
  {
   "cell_type": "markdown",
   "metadata": {},
   "source": [
    "## Goals\n",
    "\n",
    "1. Treatment of variables\n",
    "2. Use of loop **while**\n",
    "3. Use of conditional **if-else**\n",
    "4. Print in console"
   ]
  },
  {
   "cell_type": "markdown",
   "metadata": {},
   "source": [
    "## Bonus\n",
    "The distance traveled by the snail is now defined by a list.\n",
    "```\n",
    "advance_cm = [30, 21, 33, 77, 44, 45, 23, 45, 12, 34, 55]\n",
    "```\n",
    "How long does it take to raise the well?\n",
    "\n",
    "What is its maximum displacement in one day? And its minimum?\n",
    "\n",
    "What is its average speed during the day?\n",
    "\n",
    "What is the standard deviation of its displacement during the day?"
   ]
  },
  {
   "cell_type": "code",
   "execution_count": 2,
   "metadata": {},
   "outputs": [],
   "source": [
    "# Assign problem data to variables with representative names\n",
    "# well height, daily advance, night retreat, accumulated distance\n",
    "well_height=125\n",
    "advance_cm=[30,21,33,77,44,45,23,45,12,34,55]\n",
    "nightly_distance=20\n",
    "snail_position=0\n",
    "\n",
    "# Assign 0 to the variable that represents the solution\n",
    "days=0\n",
    "\n",
    "# Write the code that solves the problem\n",
    "for advance in advance_cm:\n",
    "  if  snail_position < well_height:\n",
    "    snail_position+=advance\n",
    "    days+=1\n",
    "    if snail_position < well_height:\n",
    "      snail_position-=nightly_distance\n",
    "\n",
    "\n",
    "# Print the result with print('Days =', days)\n",
    "print(\"Days = \", days)"
   ]
  },
  {
   "cell_type": "markdown",
   "metadata": {},
   "source": [
    "**Expected output**: \n",
    "```\n",
    "Days = 6\n",
    "```"
   ]
  },
  {
   "cell_type": "code",
   "execution_count": 3,
   "metadata": {},
   "outputs": [],
   "source": [
    "# What is its maximum displacement in a day? And its minimum?\n",
    "well_height=125\n",
    "advance_cm=[30,21,33,77,44,45,23,45,12,34,55]\n",
    "nightly_distance=20\n",
    "snail_position=0\n",
    "advance_days=[]\n",
    "for i in range(len(advance_cm)):\n",
    "  if  snail_position < well_height:\n",
    "    snail_position+=advance_cm[i]\n",
    "    if snail_position < well_height:\n",
    "      advance_days.append(advance_cm[i]-20)\n",
    "      snail_position-=nightly_distance\n",
    "    else:\n",
    "      advance_days.append(well_height-sum(advance_days))\n",
    "print(\"It's maximum displacement in one day is \",max(advance_days),\"cm.\")\n",
    "print(\"It's minimum displacement in one day is \",min(advance_days),\"cm.\")"
   ]
  },
  {
   "cell_type": "markdown",
   "metadata": {},
   "source": [
    "**Expected output**: \n",
    "```\n",
    "77 12\n",
    "```"
   ]
  },
  {
   "cell_type": "code",
   "execution_count": 4,
   "metadata": {},
   "outputs": [],
   "source": [
    "# What is its average progress?\n",
    "well_height=125\n",
    "advance_cm=[30,21,33,77,44,45,23,45,12,34,55]\n",
    "nightly_distance=20\n",
    "snail_position=0\n",
    "advance_days=[]\n",
    "for i in range(len(advance_cm)):\n",
    "  if  snail_position < well_height:\n",
    "    snail_position+=advance_cm[i]\n",
    "    if snail_position < well_height:\n",
    "      advance_days.append(advance_cm[i]-20)\n",
    "      snail_position-=nightly_distance\n",
    "    else:\n",
    "      advance_days.append(well_height-sum(advance_days))\n",
    "print(\"It's average progress in \",sum(advance_days)/len(advance_days))"
   ]
  },
  {
   "cell_type": "markdown",
   "metadata": {},
   "source": [
    "**Expected output**: \n",
    "```\n",
    "38.09090909090909\n",
    "```"
   ]
  },
  {
   "cell_type": "code",
   "execution_count": 5,
   "metadata": {},
   "outputs": [],
   "source": [
    "# What is the standard deviation of your displacement during the day?\n",
    "well_height=125\n",
    "advance_cm=[30,21,33,77,44,45,23,45,12,34,55]\n",
    "nightly_distance=20\n",
    "snail_position=0\n",
    "advance_days=[]\n",
    "for i in range(len(advance_cm)):\n",
    "  if  snail_position < well_height:\n",
    "    snail_position+=advance_cm[i]\n",
    "    if snail_position < well_height:\n",
    "      advance_days.append(advance_cm[i]-20)\n",
    "      snail_position-=nightly_distance\n",
    "    else:\n",
    "      advance_days.append(well_height-sum(advance_days))\n",
    "mean=int(sum(advance_days)/len(advance_days))\n",
    "lst=[]\n",
    "for advance in advance_days:\n",
    "  lst.append((advance-mean)**2)\n",
    "stdv=(sum(lst)/len(lst))**(1/2)\n",
    "print(\"The standard deviation is \", stdv)"
   ]
  },
  {
   "cell_type": "markdown",
   "metadata": {},
   "source": [
    "**Expected output**: \n",
    "```\n",
    "17.159437082600803\n",
    "```"
   ]
  }
 ],
 "metadata": {
  "kernelspec": {
   "display_name": "Python 3",
   "language": "python",
   "name": "python3"
  },
  "language_info": {
   "codemirror_mode": {
    "name": "ipython",
    "version": 3
   },
   "file_extension": ".py",
   "mimetype": "text/x-python",
   "name": "python",
   "nbconvert_exporter": "python",
   "pygments_lexer": "ipython3",
   "version": "3.8.3"
  }
 },
 "nbformat": 4,
 "nbformat_minor": 2
}
